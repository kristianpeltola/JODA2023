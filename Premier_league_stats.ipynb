{
 "cells": [
  {
   "cell_type": "markdown",
   "id": "57390190",
   "metadata": {},
   "source": [
    "# Seuraavaksi opetellaan, kuinka käytetään Beautiful Soup sekä Requests kirjastoja\n",
    "Seuraava esimerkki on premier leaguen tilastoja kaudella 2022-2023. Tehtävän takoitus on saada html- muotoisesta datasta tarvittava tieto ja tulostaa se."
   ]
  },
  {
   "cell_type": "code",
   "execution_count": 1,
   "id": "27cd3a07",
   "metadata": {},
   "outputs": [],
   "source": [
    "#Vaadittavat kirjastot\n",
    "import requests\n",
    "from bs4 import BeautifulSoup\n",
    "import pandas as pd"
   ]
  },
  {
   "cell_type": "code",
   "execution_count": 2,
   "id": "14c012ff",
   "metadata": {},
   "outputs": [],
   "source": [
    "# Ladataan sivun HTML-koodi\n",
    "url = \"https://fbref.com/en/comps/9/Premier-League-Stats#all_rank_key\"\n",
    "response = requests.get(url)\n",
    "\n",
    "# Sarakkeet tietoja varten\n",
    "column = [\"Rank\", \"Team\", \"MP\", \"W\", \"D\", \"L\"]\n",
    "\n",
    "#Luodaan tietorakenne tietojen varastointiin\n",
    "accom = dict()\n",
    "for col in column:\n",
    "    accom[col] = list()\n",
    "    \n",
    "# Beautiful Soup -olio HTML-koodin analysointia varten\n",
    "soup = BeautifulSoup(response.content, 'html.parser')\n",
    "\n",
    "# Etsitään taulukko, joka sisältää otteluiden tiedot\n",
    "table = soup.find(\"table\", {\"id\": \"results2022-202391_overall\"})\n",
    "\n",
    "# Käydään läpi taulukon rivit ja sarakkeet ja tallennetaan data DataFrameen\n",
    "rows = table.find_all('tr')\n",
    "\n",
    "# Poistetaan ensimmäinen rivi, joka sisältää vain otsikot\n",
    "rows = rows[1:]"
   ]
  },
  {
   "cell_type": "code",
   "execution_count": 3,
   "id": "07656d4b",
   "metadata": {},
   "outputs": [],
   "source": [
    "# Käydään rivit läpi ja kerätään tarvittava tieto\n",
    "for row in rows:\n",
    "    rank = row.find('th', {'data-stat': 'rank'}).text.strip()\n",
    "    name = row.find('a').text.strip()\n",
    "    games =  row.find('td', {'data-stat': 'games'}).text.strip()\n",
    "    wins = row.find('td', {'data-stat': 'wins'}).text.strip()\n",
    "    draws = row.find('td', {'data-stat': 'ties'}).text.strip()\n",
    "    losses = row.find('td', {'data-stat': 'losses'}).text.strip()\n",
    "    \n",
    "    accom[\"Rank\"].append(rank)\n",
    "    accom[\"Team\"].append(name)\n",
    "    accom[\"MP\"].append(games)\n",
    "    accom[\"W\"].append(wins)\n",
    "    accom[\"D\"].append(draws)\n",
    "    accom[\"L\"].append(losses)"
   ]
  },
  {
   "cell_type": "code",
   "execution_count": 4,
   "id": "710bbcca",
   "metadata": {},
   "outputs": [
    {
     "name": "stdout",
     "output_type": "stream",
     "text": [
      "   Rank             Team  MP   W   D   L\n",
      "0     1          Arsenal  28  22   3   3\n",
      "1     2  Manchester City  27  19   4   4\n",
      "2     3   Manchester Utd  26  15   5   6\n",
      "3     4        Tottenham  28  15   4   9\n",
      "4     5    Newcastle Utd  26  12  11   3\n",
      "5     6        Liverpool  26  12   6   8\n",
      "6     7         Brighton  25  12   6   7\n",
      "7     8        Brentford  27  10  12   5\n",
      "8     9           Fulham  27  11   6  10\n",
      "9    10          Chelsea  27  10   8   9\n",
      "10   11      Aston Villa  27  11   5  11\n",
      "11   12   Crystal Palace  28   6   9  13\n",
      "12   13           Wolves  28   7   6  15\n",
      "13   14     Leeds United  27   6   8  13\n",
      "14   15          Everton  28   6   8  14\n",
      "15   16  Nott'ham Forest  27   6   8  13\n",
      "16   17   Leicester City  27   7   4  16\n",
      "17   18         West Ham  26   6   6  14\n",
      "18   19      Bournemouth  27   6   6  15\n",
      "19   20      Southampton  28   6   5  17\n"
     ]
    }
   ],
   "source": [
    "# Luodaan Pandas DataFrame\n",
    "df = pd.DataFrame.from_dict(accom)\n",
    "print(df)"
   ]
  },
  {
   "cell_type": "code",
   "execution_count": null,
   "id": "f9ebff97",
   "metadata": {},
   "outputs": [],
   "source": []
  }
 ],
 "metadata": {
  "kernelspec": {
   "display_name": "Python 3 (ipykernel)",
   "language": "python",
   "name": "python3"
  },
  "language_info": {
   "codemirror_mode": {
    "name": "ipython",
    "version": 3
   },
   "file_extension": ".py",
   "mimetype": "text/x-python",
   "name": "python",
   "nbconvert_exporter": "python",
   "pygments_lexer": "ipython3",
   "version": "3.9.13"
  }
 },
 "nbformat": 4,
 "nbformat_minor": 5
}
